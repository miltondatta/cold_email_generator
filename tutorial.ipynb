{
 "cells": [
  {
   "cell_type": "code",
   "execution_count": 1,
   "metadata": {},
   "outputs": [],
   "source": [
    "from langchain_groq import ChatGroq\n",
    "import os"
   ]
  },
  {
   "cell_type": "code",
   "execution_count": 2,
   "metadata": {},
   "outputs": [],
   "source": [
    "import chromadb"
   ]
  },
  {
   "cell_type": "code",
   "execution_count": 3,
   "metadata": {},
   "outputs": [],
   "source": [
    "GROG_API_KEY = os.environ.get(\"MY_GROG_API_KEY\")"
   ]
  },
  {
   "cell_type": "code",
   "execution_count": 4,
   "metadata": {},
   "outputs": [],
   "source": [
    "llm = ChatGroq(\n",
    "    model=\"llama-3.1-70b-versatile\",\n",
    "    temperature=0.5,\n",
    "    api_key=GROG_API_KEY,\n",
    "    max_tokens=None,\n",
    "    max_retries=2\n",
    ")"
   ]
  },
  {
   "cell_type": "code",
   "execution_count": 5,
   "metadata": {},
   "outputs": [],
   "source": [
    "#client = chromadb.Client()\n",
    "#collection = client.create_collection(name=\"cold_mail\")\n",
    "#collection = client.create_collection(name=\"cold_email\")"
   ]
  },
  {
   "cell_type": "markdown",
   "metadata": {},
   "source": [
    "Capturing Website Data"
   ]
  },
  {
   "cell_type": "code",
   "execution_count": null,
   "metadata": {},
   "outputs": [],
   "source": [
    "from langchain_community.document_loaders import WebBaseLoader\n",
    "loader = WebBaseLoader(\"https://jobs.nike.com/job/R-43863\")\n",
    "page_data = loader.load().pop().page_content\n",
    "print(page_data)"
   ]
  },
  {
   "cell_type": "code",
   "execution_count": 7,
   "metadata": {},
   "outputs": [],
   "source": [
    "from langchain_core.prompts import PromptTemplate\n",
    "prompt_extract = PromptTemplate.from_template(\n",
    "    \"\"\" \n",
    "    ### SRAPPED TEST FROM WEBSITE\n",
    "    {page_data}\n",
    "    ### INSTRUCTION:\n",
    "    The scrapped text is from the career's page of a website.\n",
    "    Your job is extract the job postings and return them in JSON format containing following keys: 'role','experience','skills' and 'description'\n",
    "    Only return valid JSON.\n",
    "    ### VALID JSON (NO PREAMBLE)\n",
    "    \"\"\"\n",
    ")"
   ]
  },
  {
   "cell_type": "code",
   "execution_count": null,
   "metadata": {},
   "outputs": [],
   "source": [
    "chain_extract = prompt_extract | llm\n",
    "res = chain_extract.invoke(input={'page_data':page_data})\n",
    "print(res.content)"
   ]
  },
  {
   "cell_type": "code",
   "execution_count": null,
   "metadata": {},
   "outputs": [],
   "source": [
    "from langchain_core.output_parsers import JsonOutputParser\n",
    "jason_parser = JsonOutputParser()\n",
    "jason_res = jason_parser.parse(res.content)\n",
    "jason_res"
   ]
  },
  {
   "cell_type": "markdown",
   "metadata": {},
   "source": [
    "Importing Dataset and Inserting into ChromaDB"
   ]
  },
  {
   "cell_type": "code",
   "execution_count": null,
   "metadata": {},
   "outputs": [],
   "source": [
    "import pandas as pd\n",
    "df = pd.read_csv(\"my_portfolio.csv\")\n",
    "df"
   ]
  },
  {
   "cell_type": "code",
   "execution_count": 11,
   "metadata": {},
   "outputs": [],
   "source": [
    "import uuid\n",
    "client =chromadb.PersistentClient('portfoliostore')\n",
    "collection = client.get_or_create_collection('portfolio')\n",
    "\n",
    "if not collection.count():\n",
    "    for _,row in df.iterrows():\n",
    "        collection.add(\n",
    "            documents=row['Techstack'],\n",
    "            metadatas={'links' : row['Links']},\n",
    "            ids=[str(uuid.uuid4())]\n",
    "        ) \n"
   ]
  },
  {
   "cell_type": "code",
   "execution_count": 14,
   "metadata": {},
   "outputs": [],
   "source": [
    "links = collection.query(query_texts=jason_res['skills'],n_results=2).get('metadatas')"
   ]
  },
  {
   "cell_type": "code",
   "execution_count": 13,
   "metadata": {},
   "outputs": [],
   "source": [
    "prompt_email = PromptTemplate.from_template(\n",
    "    \"\"\"\n",
    "        ### JOB DESCRIPTION:\n",
    "        {job_description}\n",
    "        \n",
    "        ### INSTRUCTION:\n",
    "        You are Mohan, a business development executive at AtliQ. AtliQ is an AI & Software Consulting company dedicated to facilitating\n",
    "        the seamless integration of business processes through automated tools. \n",
    "        Over our experience, we have empowered numerous enterprises with tailored solutions, fostering scalability, \n",
    "        process optimization, cost reduction, and heightened overall efficiency. \n",
    "        Your job is to write a cold email to the client regarding the job mentioned above describing the capability of AtliQ \n",
    "        in fulfilling their needs.\n",
    "        Also add the most relevant ones from the following links to showcase Atliq's portfolio: {link_list}\n",
    "        Remember you are Mohan, BDE at AtliQ. \n",
    "        Do not provide a preamble.\n",
    "        ### EMAIL (NO PREAMBLE):\n",
    "        \n",
    "        \"\"\"\n",
    ")"
   ]
  },
  {
   "cell_type": "code",
   "execution_count": 18,
   "metadata": {},
   "outputs": [
    {
     "name": "stdout",
     "output_type": "stream",
     "text": [
      "{'role': 'Software Engineer III, ITC', 'experience': '5-8 years', 'skills': ['Marketing technology experience', 'Adobe toolset (AEP, AJO, CJA)', 'Python or Java', 'Sql', 'Data Engineering', 'Airflow, EMR, Hive, Spark', 'Microservices architecture', 'Domain driven design', 'RESTful API’s', 'CI/CD', 'DevOps', 'Data modeling', 'ETL development', 'Data streaming'], 'description': 'We are looking for a Software engineer, to be a part of Nike’s Marketing Technology organization. This position will play a critical role, in developing Nike’s Customer Data platform, which supports and promotes our products and provides a unique user experience to all our customers in 166 countries globally. We are looking for someone to have a strong Marketing Automations skills and analytical background with a focus of delivering an omnichannel consumer experience through data driven marketing.'}\n"
     ]
    }
   ],
   "source": [
    "job = jason_res\n",
    "print(job)"
   ]
  },
  {
   "cell_type": "code",
   "execution_count": null,
   "metadata": {},
   "outputs": [],
   "source": [
    "chain_email = prompt_email | llm\n",
    "res = chain_email.invoke({'job_description': str(job),'link_list': links})\n",
    "print(res.content)"
   ]
  }
 ],
 "metadata": {
  "kernelspec": {
   "display_name": "email",
   "language": "python",
   "name": "python3"
  },
  "language_info": {
   "codemirror_mode": {
    "name": "ipython",
    "version": 3
   },
   "file_extension": ".py",
   "mimetype": "text/x-python",
   "name": "python",
   "nbconvert_exporter": "python",
   "pygments_lexer": "ipython3",
   "version": "3.12.7"
  }
 },
 "nbformat": 4,
 "nbformat_minor": 2
}
