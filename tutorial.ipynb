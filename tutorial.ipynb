{
 "cells": [
  {
   "cell_type": "code",
   "execution_count": 1,
   "metadata": {},
   "outputs": [],
   "source": [
    "from langchain_groq import ChatGroq\n",
    "import os"
   ]
  },
  {
   "cell_type": "code",
   "execution_count": 2,
   "metadata": {},
   "outputs": [],
   "source": [
    "import chromadb"
   ]
  },
  {
   "cell_type": "code",
   "execution_count": 3,
   "metadata": {},
   "outputs": [],
   "source": [
    "GROG_API_KEY = os.environ.get(\"MY_GROG_API_KEY\")"
   ]
  },
  {
   "cell_type": "code",
   "execution_count": 4,
   "metadata": {},
   "outputs": [],
   "source": [
    "llm = ChatGroq(\n",
    "    model=\"llama-3.1-70b-versatile\",\n",
    "    temperature=0.5,\n",
    "    api_key=GROG_API_KEY,\n",
    "    max_tokens=None,\n",
    "    max_retries=2\n",
    ")"
   ]
  },
  {
   "cell_type": "code",
   "execution_count": 5,
   "metadata": {},
   "outputs": [],
   "source": [
    "client = chromadb.Client()\n",
    "#collection = client.create_collection(name=\"cold_mail\")\n",
    "#collection = client.create_collection(name=\"cold_email\")"
   ]
  },
  {
   "cell_type": "code",
   "execution_count": null,
   "metadata": {},
   "outputs": [],
   "source": [
    "collection.add(\n",
    "    documents=[\n",
    "        \"This document is about New York\",\n",
    "        \"This document is about Dhaka,Bangladesh\"\n",
    "    ],\n",
    "    ids=[\"id1\",\"id2\"]\n",
    ")"
   ]
  },
  {
   "cell_type": "code",
   "execution_count": null,
   "metadata": {},
   "outputs": [],
   "source": [
    "all_docs = collection.get(ids=[\"id1\"])\n",
    "all_docs"
   ]
  },
  {
   "cell_type": "code",
   "execution_count": 22,
   "metadata": {},
   "outputs": [
    {
     "data": {
      "text/plain": [
       "{'ids': [['id1']],\n",
       " 'distances': [[1.7323635816574097]],\n",
       " 'metadatas': [[None]],\n",
       " 'embeddings': None,\n",
       " 'documents': [['This document is about New York']],\n",
       " 'uris': None,\n",
       " 'data': None}"
      ]
     },
     "execution_count": 22,
     "metadata": {},
     "output_type": "execute_result"
    }
   ],
   "source": [
    "results = collection.query(\n",
    "    query_texts=['Query is about Bagels'],\n",
    "    n_results=1\n",
    ")\n",
    "results"
   ]
  },
  {
   "cell_type": "code",
   "execution_count": 29,
   "metadata": {},
   "outputs": [
    {
     "data": {
      "text/plain": [
       "{'ids': [],\n",
       " 'embeddings': None,\n",
       " 'metadatas': [],\n",
       " 'documents': [],\n",
       " 'uris': None,\n",
       " 'data': None}"
      ]
     },
     "execution_count": 29,
     "metadata": {},
     "output_type": "execute_result"
    }
   ],
   "source": [
    "collection.delete(ids=[\"id2\"])\n",
    "collection.get()"
   ]
  },
  {
   "cell_type": "markdown",
   "metadata": {},
   "source": [
    "Capturing Website Data"
   ]
  },
  {
   "cell_type": "code",
   "execution_count": 14,
   "metadata": {},
   "outputs": [
    {
     "name": "stdout",
     "output_type": "stream",
     "text": [
      "Apply for Software Engineer III, ITC\n",
      "\n",
      "Search JobsSkip navigationSearch JobsNIKE, INC. JOBSContract JobsJoin The Talent CommunityLife @ NikeOverviewBenefitsBrandsOverviewJordanConverseTeamsOverviewAdministrative SupportAdvanced InnovationAir Manufacturing InnovationAviationCommunicationsCustomer ServiceDesignDigitalFacilitiesFinance & AccountingGovernment & Public AffairsHuman ResourcesInsights & AnalyticsLegalManufacturing & EngineeringMarketingMerchandisingPlanningPrivacyProcurementProduct Creation, Development & ManagementRetail CorporateRetail StoresSalesSocial & Community ImpactSports MarketingStrategic PlanningSupply Chain, Distribution & LogisticsSustainabilityTechnologyLocationsOverviewNike WHQNike New York HQEHQ: Hilversum, The NetherlandsELC: Laakdal, BelgiumGreater China HQDiversity, Equity & InclusionOverviewMilitary InclusionDisability InclusionIndigenous InclusionInternshipsTechnologySoftware Engineer III, ITCKarnataka, IndiaBecome a Part of the NIKE, Inc. TeamNIKE, Inc. does more than outfit the world’s best athletes. It is a place to explore potential, obliterate boundaries and push out the edges of what can be. The company looks for people who can grow, think, dream and create. Its culture thrives by embracing diversity and rewarding imagination. The brand seeks achievers, leaders and visionaries. At NIKE, Inc. it’s about each person bringing skills and passion to a challenging and constantly evolving game.NIKE is a technology company. From our flagship website and five-star mobile apps to developing products, managing big data and providing leading edge engineering and systems support, our teams at NIKE Global Technology exist to revolutionize the future at the confluence of tech and sport. We invest and develop advances in technology and employ the most creative people in the world, and then give them the support to constantly innovate, iterate and serve consumers more directly and personally.  Our teams are innovative, diverse, multidisciplinary and collaborative, taking technology into the future and bringing the world with it.WHO YOU’LL WORK WITHThis role is part of the Nike’s Customer Data Platform within Marketing Technology. This team works on a variety of data points across Geos from Nike’ experiences, Data Science Models, Transaction Data, Permissions etc which are stitched together to create a rich customer overview that provides the marketers a buffet of options to choose for a marketing activity or build a insight. This team is powered by Data Engineering, Customer Data platform software service and many home grown tools based on cutting edge technologies.WHO WE ARE LOOKING FORWe are looking for a Software engineer, to be a part of Nike’s Marketing Technology organization. This position will play a critical role, in developing Nike’s Customer Data platform, which supports and promotes our products and provides a unique user experience to all our customers in166 countries globally. We are looking for someone to have a strong Marketing Automations skills and analytical background with a focus of delivering an omnichannel consumer experience through data driven marketing.We are looking for a candidate with a strong 5-8 years of experience on working on marketing Automation and reporting automation and should demonstrate below skills:5-8 years of technology related experience required.5+ years of hands-on experience in software engineering developing full stack software solutions.Marketing technology experience.Experience with various Adobe toolset in the marketing space– in particular Adobe.Experience Platform (AEP), Adobe Journey Optimizer (AJO), Customer Journey Analytics(CJA).Handson Experience on building marketing use cases using AJO and Segments.Experience in building customized marketing reporting solutions – Titan,Bigpanda,Splunk.Experience on Python or Java, Sql, Data Engineering, experience with the following tools or similar: Airflow, EMR, Hive, Spark, or similar.Demonstrated strength in data modeling, ETL development, and data streaming.Knowledge of data management fundamentals and data storage principles.Experience in microservices architecture, domain driven design, and RESTful API’s.Hands-on experience working in a distributed/cloud-based environment with high transaction volumes.Familiarity with the challenge of moving large files across a geographically disperse network. Knowledge of different accelerated transfer methods and technologies.Experience with implementing CI/CD and leading teams with DevOps responsibilities of deploying and supporting the software in production.WHAT YOU’LL WORK ONYou will be responsible for driving, owning, and shipping all aspects of large, multi-functional efforts and feature areas. You will partner with engineering teams throughout feature development from architecture, design, implementation, and validation.Collaborating with product team members at Nike to design, develop, and deploy a highly scalable digital system and services.Communicate and collaborate with other managers, stakeholders and contractors.Build complex data pipelines for real time data, Click stream analysis and work to achieve high-quality data ingestion goals.Collaborate with upstream and downstream technical teams to develop integrations to provide a seamless flow of our marketing assets from planning to delivery.  Contributing ideas for new features and identifying technical areas for improvement proactively.Contributing ideas for new features and identifying technical areas for improvement proactively.NIKE, Inc. is a growth company that looks for team members to grow with it. Nike offers a generous total rewards package, casual work environment, a diverse and inclusive culture, and an electric atmosphere for professional development. No matter the location, or the role, every Nike employee shares one galvanizing mission: To bring inspiration and innovation to every athlete* in the world.NIKE, Inc. is committed to employing a diverse workforce. Qualified applicants will receive consideration without regard to race, color, religion, sex, national origin, age, sexual orientation, gender identity, gender expression, veteran status, or disability.How We HireAt NIKE, Inc. we promise to provide a premium, inclusive, compelling and authentic candidate experience. Delivering on this promise means we allow you to be at your best — and to do that, you need to understand how the hiring process works. Transparency is key.\n",
      "\n",
      "* This overview explains our hiring process for corporate roles. Note there may be different hiring steps involved for non-corporate roles.Start nowBenefitsWhether it’s transportation or financial health, we continually invest in our employees to help them achieve greatness — inside and outside of work. All who work here should be able to realize their full potential.Employee Assistance ProgramHolidaysMedical PlanPaid Time Off (PTO)Product DiscountsLearn moreGIFT CARDSPROMOTIONSFIND A STORESIGN UP FOR EMAILBECOME A MEMBERNIKE JOURNALSEND US FEEDBACKGET HELPGET HELPOrder StatusShipping and DeliveryReturnsPayment OptionsGift Cards BalanceContact UsABOUT NIKEABOUT NIKENewsCareersInvestorsPurposeSustainabilityUnited States© 2024 Nike, Inc. All Rights ReservedGuidesNike AdaptNike Air MaxNike FlyleatherNike ReactSpace HippieNike AirNike FlyEaseNike Free Nike VaporflyNike Air Force 1 Nike FlyknitNike JoyrideNike ZoomXTerms of SaleTerms of UseNike Privacy PolicyYour Privacy ChoicesCA Supply Chain Act\n"
     ]
    }
   ],
   "source": [
    "from langchain_community.document_loaders import WebBaseLoader\n",
    "loader = WebBaseLoader(\"https://jobs.nike.com/job/R-43863\")\n",
    "page_data = loader.load().pop().page_content\n",
    "print(page_data)"
   ]
  },
  {
   "cell_type": "code",
   "execution_count": 19,
   "metadata": {},
   "outputs": [],
   "source": [
    "from langchain_core.prompts import PromptTemplate\n",
    "prompt_extract = PromptTemplate.from_template(\n",
    "    \"\"\" \n",
    "    ### SRAPPED TEST FROM WEBSITE\n",
    "    {page_data}\n",
    "    ### INSTRUCTION:\n",
    "    The scrapped text is from the career's page of a website.\n",
    "    Your job is extract the job postings and return them in JSON format containing following keys: 'role','experience','skills' and 'description'\n",
    "    Only return valid JSON.\n",
    "    ### VALID JSON (NO PREAMBLE)\n",
    "    \"\"\"\n",
    ")"
   ]
  },
  {
   "cell_type": "code",
   "execution_count": 20,
   "metadata": {},
   "outputs": [
    {
     "name": "stdout",
     "output_type": "stream",
     "text": [
      "```\n",
      "{\n",
      "  \"role\": \"Software Engineer III, ITC\",\n",
      "  \"experience\": \"5-8 years\",\n",
      "  \"skills\": [\n",
      "    \"Marketing technology experience\",\n",
      "    \"Adobe toolset experience (AEP, AJO, CJA)\",\n",
      "    \"Python or Java\",\n",
      "    \"Sql\",\n",
      "    \"Data Engineering\",\n",
      "    \"Airflow, EMR, Hive, Spark\",\n",
      "    \"Microservices architecture\",\n",
      "    \"Domain driven design\",\n",
      "    \"RESTful API's\",\n",
      "    \"CI/CD\",\n",
      "    \"DevOps\"\n",
      "  ],\n",
      "  \"description\": \"We are looking for a Software engineer, to be a part of Nike’s Marketing Technology organization. This position will play a critical role, in developing Nike’s Customer Data platform, which supports and promotes our products and provides a unique user experience to all our customers in 166 countries globally.\"\n",
      "}\n",
      "```\n"
     ]
    }
   ],
   "source": [
    "chain_extract = prompt_extract | llm\n",
    "res = chain_extract.invoke(input={'page_data':page_data})\n",
    "print(res.content)"
   ]
  },
  {
   "cell_type": "code",
   "execution_count": null,
   "metadata": {},
   "outputs": [
    {
     "data": {
      "text/plain": [
       "JsonOutputParser()"
      ]
     },
     "execution_count": 22,
     "metadata": {},
     "output_type": "execute_result"
    }
   ],
   "source": [
    "from langchain_core.output_parsers import JsonOutputParser\n",
    "jason_parser = JsonOutputParser()\n",
    "jason_res = jason_parser.parse(res.content)\n",
    "jason_res"
   ]
  }
 ],
 "metadata": {
  "kernelspec": {
   "display_name": "email",
   "language": "python",
   "name": "python3"
  },
  "language_info": {
   "codemirror_mode": {
    "name": "ipython",
    "version": 3
   },
   "file_extension": ".py",
   "mimetype": "text/x-python",
   "name": "python",
   "nbconvert_exporter": "python",
   "pygments_lexer": "ipython3",
   "version": "3.12.7"
  }
 },
 "nbformat": 4,
 "nbformat_minor": 2
}
